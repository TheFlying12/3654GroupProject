{
 "cells": [
  {
   "cell_type": "markdown",
   "id": "939af2ab",
   "metadata": {},
   "source": [
    "# Ranking offensive output of NBA guards\n",
    "## Think of and put team name here \n",
    "### Members:\n",
    "Tejus Janakiraman (tejusj)\n"
   ]
  },
  {
   "cell_type": "markdown",
   "id": "c64c4b81",
   "metadata": {},
   "source": [
    "# Initial Description: \n",
    "Try to quantify offensive impact of NBA guards and rank them based on developed metric \n",
    "\n",
    "# Potential Questions: \n",
    "Who is the NBA guard with the highest offensive output of all time? \n",
    "<br>\n",
    "What is the best box statistic (basic stat ie. Points, rebounds, assists) to predict offensive output?\n",
    "<br>\n",
    "What actual metrics actually compares offensive output?\n",
    "<br>\n",
    "\n",
    "# Potential References \n",
    "https://www.basketball-reference.com/\n",
    "<br>\n",
    "https://stathead.com/basketball/\n"
   ]
  }
 ],
 "metadata": {
  "kernelspec": {
   "display_name": "Python 3 (ipykernel)",
   "language": "python",
   "name": "python3"
  },
  "language_info": {
   "codemirror_mode": {
    "name": "ipython",
    "version": 3
   },
   "file_extension": ".py",
   "mimetype": "text/x-python",
   "name": "python",
   "nbconvert_exporter": "python",
   "pygments_lexer": "ipython3",
   "version": "3.9.7"
  }
 },
 "nbformat": 4,
 "nbformat_minor": 5
}
